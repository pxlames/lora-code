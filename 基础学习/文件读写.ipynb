{
 "cells": [
  {
   "cell_type": "code",
   "execution_count": 39,
   "id": "8109f4f3",
   "metadata": {},
   "outputs": [
    {
     "name": "stdout",
     "output_type": "stream",
     "text": [
      "added line no.3\n",
      "dded line no.4added line no.9added line no.5\n",
      "added line no.8\n",
      "added line no.8\n",
      "added line no.1\n",
      "added line no.1\n",
      "added line no.7\n",
      "added line no.8\n",
      "added line no.1\n",
      "added line no.4\n",
      "added line no.3\n",
      "added line no.5\n",
      "\n"
     ]
    },
    {
     "data": {
      "text/plain": [
       "16"
      ]
     },
     "execution_count": 39,
     "metadata": {},
     "output_type": "execute_result"
    }
   ],
   "source": [
    "## 文件读写\n",
    "import random\n",
    "\n",
    "file = open('file.txt','r+')\n",
    "\n",
    "content = file.read() # 读取全部内容\n",
    "print(content)\n",
    "\n",
    "# file.readline()\n",
    "\n",
    "# file.readlines() # 读取所有行到一个列表中\n",
    "\n",
    "# file = open('file.txt','w+')\n",
    "\n",
    "i = random.randint(1,10)\n",
    "file.write(f\"added line no.{i}\\n\")\n",
    "\n"
   ]
  },
  {
   "cell_type": "code",
   "execution_count": null,
   "id": "b3dad385",
   "metadata": {},
   "outputs": [],
   "source": []
  },
  {
   "cell_type": "code",
   "execution_count": null,
   "id": "ebf0124f",
   "metadata": {},
   "outputs": [],
   "source": []
  },
  {
   "cell_type": "code",
   "execution_count": null,
   "id": "554ce322",
   "metadata": {},
   "outputs": [],
   "source": []
  },
  {
   "cell_type": "code",
   "execution_count": null,
   "id": "e4db76fd",
   "metadata": {},
   "outputs": [],
   "source": []
  }
 ],
 "metadata": {
  "kernelspec": {
   "display_name": "Python 3",
   "language": "python",
   "name": "python3"
  },
  "language_info": {
   "codemirror_mode": {
    "name": "ipython",
    "version": 3
   },
   "file_extension": ".py",
   "mimetype": "text/x-python",
   "name": "python",
   "nbconvert_exporter": "python",
   "pygments_lexer": "ipython3",
   "version": "3.6.10"
  }
 },
 "nbformat": 4,
 "nbformat_minor": 5
}
