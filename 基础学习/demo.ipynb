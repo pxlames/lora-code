{
 "cells": [
  {
   "cell_type": "code",
   "execution_count": 54,
   "metadata": {
    "pycharm": {
     "name": "#%%#%%\n"
    }
   },
   "outputs": [
    {
     "name": "stdout",
     "output_type": "stream",
     "text": [
      "2\n",
      "0 2, 1 1, 2 4, 3 5, 4 6,  \n",
      "0 1, 1 2, 2 4, 3 5, 4 6, "
     ]
    }
   ],
   "source": [
    "# 创建一个列表\n",
    "my_list = [2, 1, 3, 4, 5]\n",
    "\n",
    "# 向列表中添加元素\n",
    "my_list.append(6)\n",
    "\n",
    "# 从列表中删除元素\n",
    "my_list.remove(3)\n",
    "\n",
    "# 访问列表中的元素\n",
    "print(my_list[0])  # 输出第一个元素\n",
    "\n",
    "# 遍历列表元素\n",
    "for i,item in enumerate(my_list):\n",
    "    print('{} {}, '.format(i,item),end=\"\")\n",
    "\n",
    "print(' ')\n",
    "my_list.sort();\n",
    "for i,item in enumerate(my_list):\n",
    "    print('{} {}, '.format(i,item),end=\"\")\n"
   ]
  },
  {
   "cell_type": "code",
   "execution_count": 44,
   "metadata": {},
   "outputs": [
    {
     "name": "stdout",
     "output_type": "stream",
     "text": [
      "spam,eggs\n",
      "eggs,spam\n",
      "1 2 2 1 2 3 3 1 1 3 你好啊，请选择今日份任务，1.python2 2.cake\n"
     ]
    }
   ],
   "source": [
    "import random\n",
    "## 输出\n",
    "print('{0},{1}'.format('spam','eggs'))\n",
    "print('{1},{0}'.format('spam','eggs'))\n",
    "\n",
    "for i in range(10):\n",
    "    a = random.randint(1,3)\n",
    "    print(\"{} \".format(a),end='')\n",
    "## 使用关键字参数\n",
    "print('你好啊，请选择今日份任务，1.{learn} 2.{shop}'.format(learn='python2',shop='cake'))"
   ]
  },
  {
   "cell_type": "code",
   "execution_count": 38,
   "metadata": {},
   "outputs": [
    {
     "name": "stdout",
     "output_type": "stream",
     "text": [
      "3\n",
      "2.0692038748222124\n",
      "1\n",
      "[4, 5, 2, 1, 3]\n"
     ]
    }
   ],
   "source": [
    "## 随机数\n",
    "import random\n",
    "\n",
    "### 设置随机数生成器的种子来确保结果的可复现性\n",
    "random.seed(1)\n",
    "### 生成指定范围内的随机整数:\n",
    "random_int = random.randint(1, 10)  # 包括1和10\n",
    "print(random_int)\n",
    "### 生成指定范围内的随机浮点数:\n",
    "random_float_range = random.uniform(1.5, 2.5)\n",
    "print(random_float_range)\n",
    "### 从列表中随机选择一个元素:\n",
    "my_list = [1, 2, 3, 4, 5]\n",
    "random_choice = random.choice(my_list)\n",
    "print(random_choice)\n",
    "### 生成一个随机数序列并打乱顺序:\n",
    "my_list = [1, 2, 3, 4, 5]\n",
    "random.shuffle(my_list)\n",
    "print(my_list)\n"
   ]
  },
  {
   "cell_type": "code",
   "execution_count": 57,
   "metadata": {},
   "outputs": [
    {
     "name": "stdout",
     "output_type": "stream",
     "text": [
      "2\n",
      "1\n",
      "2\n",
      "3\n",
      "4\n",
      "5\n"
     ]
    }
   ],
   "source": [
    "## 元组，不可变的列表\n",
    "my_tuple = (1,2,3,4,5)\n",
    "print(my_tuple[1])\n",
    "for item in my_tuple:\n",
    "    print(item)"
   ]
  },
  {
   "cell_type": "code",
   "execution_count": 60,
   "metadata": {},
   "outputs": [
    {
     "name": "stdout",
     "output_type": "stream",
     "text": [
      "1 3 4 5 6 "
     ]
    }
   ],
   "source": [
    "## 集合\n",
    "my_set = {1,2,3,4,5}\n",
    "my_set.add(6) #测试添加\n",
    "my_set.add(3) #测试唯一性\n",
    "my_set.discard(2) #测试删除\n",
    "for item in my_set:\n",
    "    print(item,end=' ')\n"
   ]
  },
  {
   "cell_type": "code",
   "execution_count": 62,
   "metadata": {},
   "outputs": [
    {
     "name": "stdout",
     "output_type": "stream",
     "text": [
      "10\n",
      "apple 10\n",
      "cherry 30\n",
      "cake 40\n"
     ]
    }
   ],
   "source": [
    "## 字典\n",
    "my_dict = {'apple':10,'banana':20,'cherry':30}\n",
    "my_dict['cake'] = 40\n",
    "del my_dict['banana']\n",
    "print(my_dict['apple'])\n",
    "for key,value in my_dict.items():\n",
    "    print(key,value)"
   ]
  },
  {
   "cell_type": "code",
   "execution_count": 66,
   "metadata": {},
   "outputs": [
    {
     "name": "stdout",
     "output_type": "stream",
     "text": [
      "结果是: 5.0\n",
      "执行了除法运算\n",
      "除数不能为0！\n",
      "执行了除法运算\n"
     ]
    }
   ],
   "source": [
    "## 异常处理\n",
    "def divide(x, y):\n",
    "    try:\n",
    "        result = x / y\n",
    "    except ZeroDivisionError:\n",
    "        print(\"除数不能为0！\")\n",
    "    else:\n",
    "        print(\"结果是:\", result)\n",
    "    finally:\n",
    "        print(\"执行了除法运算\")\n",
    "\n",
    "divide(10, 2)  # 正常情况\n",
    "divide(10, 0)  # 触发ZeroDivisionError"
   ]
  },
  {
   "cell_type": "code",
   "execution_count": 85,
   "metadata": {},
   "outputs": [
    {
     "name": "stdout",
     "output_type": "stream",
     "text": [
      "the brand:brand1, price:20\n"
     ]
    }
   ],
   "source": [
    "## 类\n",
    "class Car:\n",
    "    no = 1\n",
    "    def __init__(self,brand,price):\n",
    "        self.brand = brand\n",
    "        self.price = price\n",
    "        \n",
    "    def display_info(self):\n",
    "        print(\"the brand:{0}, price:{1}\".format(self.brand,self.price))\n",
    "        \n",
    "              \n",
    "car1 = Car('brand1',20)\n",
    "car1.display_info()\n"
   ]
  },
  {
   "cell_type": "code",
   "execution_count": 86,
   "metadata": {},
   "outputs": [
    {
     "name": "stdout",
     "output_type": "stream",
     "text": [
      "the brand:brand1, price:20\n",
      "display_number: 100\n"
     ]
    }
   ],
   "source": [
    "## 继承：\n",
    "class SellCar(Car):\n",
    "    def __init__(self, brand, price, number):\n",
    "        super().__init__(brand, price)\n",
    "        self.number = number\n",
    "\n",
    "    def display_number(self):\n",
    "        print(f\"display_number: {self.number}\")\n",
    "\n",
    "car2 = SellCar('brand1',20,100)\n",
    "car2.display_info()\n",
    "car2.display_number()"
   ]
  },
  {
   "cell_type": "code",
   "execution_count": 90,
   "metadata": {},
   "outputs": [
    {
     "name": "stdout",
     "output_type": "stream",
     "text": [
      "the brand:brand1, price:20\n",
      "the brand:brand2, price:20\n",
      "display_number: 100\n"
     ]
    }
   ],
   "source": [
    "## 多态：\n",
    "def car_info(car):\n",
    "    car.display_info()\n",
    "    if isinstance(car, SellCar):\n",
    "        car.display_number()\n",
    "\n",
    "car1 = Car(\"brand1\",20)\n",
    "sellCar1 = SellCar(\"brand2\",20,100)\n",
    "car_info(car1)\n",
    "car_info(sellCar1)"
   ]
  },
  {
   "cell_type": "code",
   "execution_count": null,
   "metadata": {},
   "outputs": [],
   "source": []
  }
 ],
 "metadata": {
  "kernelspec": {
   "display_name": "Python 3",
   "language": "python",
   "name": "python3"
  },
  "language_info": {
   "codemirror_mode": {
    "name": "ipython",
    "version": 3
   },
   "file_extension": ".py",
   "mimetype": "text/x-python",
   "name": "python",
   "nbconvert_exporter": "python",
   "pygments_lexer": "ipython3",
   "version": "3.6.10"
  },
  "pycharm": {
   "stem_cell": {
    "cell_type": "raw",
    "metadata": {
     "collapsed": false
    },
    "source": [
     "\n"
    ]
   }
  }
 },
 "nbformat": 4,
 "nbformat_minor": 1
}
